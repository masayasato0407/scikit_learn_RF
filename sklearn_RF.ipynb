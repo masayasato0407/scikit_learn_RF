{
  "nbformat": 4,
  "nbformat_minor": 0,
  "metadata": {
    "colab": {
      "provenance": [],
      "authorship_tag": "ABX9TyNwa2jJRCwKtZNvgaNjFt7l",
      "include_colab_link": true
    },
    "kernelspec": {
      "name": "python3",
      "display_name": "Python 3"
    },
    "language_info": {
      "name": "python"
    }
  },
  "cells": [
    {
      "cell_type": "markdown",
      "metadata": {
        "id": "view-in-github",
        "colab_type": "text"
      },
      "source": [
        "<a href=\"https://colab.research.google.com/github/masayasato0407/scikit_learn_RF/blob/main/sklearn_RF.ipynb\" target=\"_parent\"><img src=\"https://colab.research.google.com/assets/colab-badge.svg\" alt=\"Open In Colab\"/></a>"
      ]
    },
    {
      "cell_type": "code",
      "source": [
        "# scikit-optimizeのインストール\n",
        "!pip install scikit-optimize"
      ],
      "metadata": {
        "id": "OfzZOOiLLiHS"
      },
      "execution_count": null,
      "outputs": []
    },
    {
      "cell_type": "code",
      "execution_count": null,
      "metadata": {
        "id": "uks5ExQsLES3"
      },
      "outputs": [],
      "source": [
        "# 必要なライブラリのインポート\n",
        "from google.colab import files\n",
        "import pandas as pd\n",
        "from sklearn.model_selection import train_test_split\n",
        "from sklearn.ensemble import RandomForestClassifier\n",
        "from skopt import BayesSearchCV\n",
        "from sklearn.metrics import accuracy_score, roc_auc_score\n",
        "from sklearn.inspection import permutation_importance"
      ]
    },
    {
      "cell_type": "code",
      "source": [
        "# training dataのアップロード\n",
        "uploaded = files.upload()"
      ],
      "metadata": {
        "id": "aZW_aVRQLQwc"
      },
      "execution_count": null,
      "outputs": []
    },
    {
      "cell_type": "code",
      "source": [
        "# test dataのアップロード\n",
        "uploaded = files.upload()"
      ],
      "metadata": {
        "id": "82XgAEe7LQ0E"
      },
      "execution_count": null,
      "outputs": []
    },
    {
      "cell_type": "code",
      "source": [
        "# CSVファイルの読み込み\n",
        "train_data = pd.read_csv('train.csv')\n",
        "test_data = pd.read_csv('test.csv')"
      ],
      "metadata": {
        "id": "FXMYbLxKLQ2j"
      },
      "execution_count": null,
      "outputs": []
    },
    {
      "cell_type": "code",
      "source": [
        "# 説明変数と目的変数 (event)の分割\n",
        "X_train = train_data.drop('event', axis=1)\n",
        "y_train = train_data['event']\n",
        "X_test = test_data.drop('event', axis=1)\n",
        "y_test = test_data['event']"
      ],
      "metadata": {
        "id": "sVGgyT6vLQ5L"
      },
      "execution_count": null,
      "outputs": []
    },
    {
      "cell_type": "code",
      "source": [
        "# ハイパーパラメータの範囲を定義\n",
        "param_space = {\n",
        "    'n_estimators': (10, 250),\n",
        "    'max_depth': (1, 50),\n",
        "    'min_samples_split': (2, 25),\n",
        "    'max_features': (0.1, 0.999)\n",
        "}"
      ],
      "metadata": {
        "id": "r6CXWtmsLQ7q"
      },
      "execution_count": null,
      "outputs": []
    },
    {
      "cell_type": "code",
      "source": [
        "# ベイズ最適化を用いたハイパーパラメータチューニング (時間がかかるためn_iterは10にしていますが、実際は50や100などにして下さい)\n",
        "#n_iter: ハイパーパラメータ探索で試す組み合わせの回数を指定します。例えば、n_iter=32なら、32通りのハイパーパラメータを評価します。\n",
        "#cv: トレーニングデータをいくつに分けるかの指定 (3ならデータを3つに分けて各部分を一度ずつvalidation setに使用)\n",
        "opt = BayesSearchCV(\n",
        "    estimator=RandomForestClassifier(random_state=1),\n",
        "    search_spaces=param_space,\n",
        "    n_iter=10,\n",
        "    cv=3,\n",
        "    n_jobs=-1,\n",
        "    random_state=1\n",
        ")"
      ],
      "metadata": {
        "id": "3SXaiOxGMFbC"
      },
      "execution_count": null,
      "outputs": []
    },
    {
      "cell_type": "code",
      "source": [
        "# モデルのトレーニング\n",
        "opt.fit(X_train, y_train)"
      ],
      "metadata": {
        "id": "k8taN8RLMFeC"
      },
      "execution_count": null,
      "outputs": []
    },
    {
      "cell_type": "code",
      "source": [
        "# 最適なハイパーパラメータでのモデル評価\n",
        "best_model = opt.best_estimator_\n",
        "y_pred = best_model.predict(X_test)\n",
        "y_pred_proba = best_model.predict_proba(X_test)[:, 1]"
      ],
      "metadata": {
        "id": "-3SLTAoJMFgp"
      },
      "execution_count": null,
      "outputs": []
    },
    {
      "cell_type": "code",
      "source": [
        "# 正診率とAUCの計算\n",
        "accuracy = accuracy_score(y_test, y_pred)\n",
        "roc_auc = roc_auc_score(y_test, y_pred_proba)\n",
        "\n",
        "print(f'Accuracy: {accuracy}')\n",
        "print(f'ROC AUC: {roc_auc}')"
      ],
      "metadata": {
        "id": "7m8QLiYqMFjZ"
      },
      "execution_count": null,
      "outputs": []
    },
    {
      "cell_type": "code",
      "source": [
        "# Permutation Importanceによる変数重要度の計算\n",
        "result = permutation_importance(best_model, X_test, y_test, n_repeats=30, random_state=1)\n",
        "importance_df = pd.DataFrame({'Feature': X_train.columns, 'Importance': result.importances_mean})\n",
        "importance_df.sort_values(by='Importance', ascending=False, inplace=True)\n",
        "print(importance_df)"
      ],
      "metadata": {
        "id": "f8EUl0phUjnV"
      },
      "execution_count": null,
      "outputs": []
    },
    {
      "cell_type": "code",
      "source": [
        "# 予測結果をCSVに出力\n",
        "output_df = pd.DataFrame({'Actual': y_test, 'Predicted': y_pred, 'Probability': y_pred_proba})\n",
        "output_df.to_csv('prediction_results.csv', index=False)"
      ],
      "metadata": {
        "id": "RhCRYpK7N5OR"
      },
      "execution_count": null,
      "outputs": []
    },
    {
      "cell_type": "code",
      "source": [
        "# CSVファイルをダウンロードする\n",
        "files.download('prediction_results.csv')"
      ],
      "metadata": {
        "id": "eYKezjUiN5RZ"
      },
      "execution_count": null,
      "outputs": []
    }
  ]
}